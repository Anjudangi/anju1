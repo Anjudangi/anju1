{
 "cells": [
  {
   "cell_type": "code",
   "execution_count": 1,
   "id": "c8f451f2-9396-44f2-97ff-dc1ce55863d0",
   "metadata": {},
   "outputs": [
    {
     "data": {
      "text/plain": [
       "7"
      ]
     },
     "execution_count": 1,
     "metadata": {},
     "output_type": "execute_result"
    }
   ],
   "source": [
    "3+4"
   ]
  },
  {
   "cell_type": "code",
   "execution_count": 2,
   "id": "3632efba-0f92-4d59-9754-63193242691e",
   "metadata": {},
   "outputs": [
    {
     "data": {
      "text/plain": [
       "400"
      ]
     },
     "execution_count": 2,
     "metadata": {},
     "output_type": "execute_result"
    }
   ],
   "source": [
    "424-24"
   ]
  },
  {
   "cell_type": "code",
   "execution_count": 3,
   "id": "e831a55d-1d6b-4834-8a7f-c7de7ef58573",
   "metadata": {},
   "outputs": [],
   "source": [
    "a=\"bjak\""
   ]
  },
  {
   "cell_type": "code",
   "execution_count": 4,
   "id": "f495b7f8-a423-49aa-bf50-9b8fbec7f6fc",
   "metadata": {},
   "outputs": [
    {
     "data": {
      "text/plain": [
       "'bjak'"
      ]
     },
     "execution_count": 4,
     "metadata": {},
     "output_type": "execute_result"
    }
   ],
   "source": [
    "a"
   ]
  },
  {
   "cell_type": "code",
   "execution_count": 5,
   "id": "0b4777d3-7e25-4f43-8a1c-62ebfbfb977f",
   "metadata": {},
   "outputs": [],
   "source": [
    "a=[2,3,3,4,5,6,6]"
   ]
  },
  {
   "cell_type": "code",
   "execution_count": 6,
   "id": "da5bf3e9-f3ce-4051-867f-d561319419ba",
   "metadata": {},
   "outputs": [
    {
     "data": {
      "text/plain": [
       "[2, 3, 3, 4, 5, 6, 6]"
      ]
     },
     "execution_count": 6,
     "metadata": {},
     "output_type": "execute_result"
    }
   ],
   "source": [
    "a"
   ]
  },
  {
   "cell_type": "code",
   "execution_count": null,
   "id": "2b438fab-be59-4120-b6fc-59a79feb4d92",
   "metadata": {},
   "outputs": [],
   "source": []
  }
 ],
 "metadata": {
  "kernelspec": {
   "display_name": "Python 3 (ipykernel)",
   "language": "python",
   "name": "python3"
  },
  "language_info": {
   "codemirror_mode": {
    "name": "ipython",
    "version": 3
   },
   "file_extension": ".py",
   "mimetype": "text/x-python",
   "name": "python",
   "nbconvert_exporter": "python",
   "pygments_lexer": "ipython3",
   "version": "3.10.8"
  }
 },
 "nbformat": 4,
 "nbformat_minor": 5
}
